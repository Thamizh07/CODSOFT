{
 "cells": [
  {
   "cell_type": "code",
   "execution_count": 1,
   "id": "16964668",
   "metadata": {
    "id": "15db0102-b342-4911-acff-92b3213bc91d",
    "papermill": {
     "duration": 1.953378,
     "end_time": "2023-12-15T07:34:21.112922",
     "exception": false,
     "start_time": "2023-12-15T07:34:19.159544",
     "status": "completed"
    },
    "tags": []
   },
   "outputs": [],
   "source": [
    "import pandas as pd\n",
    "import numpy as np\n",
    "import seaborn as sns\n",
    "import matplotlib.pyplot as plt"
   ]
  },
  {
   "cell_type": "code",
   "execution_count": 2,
   "id": "b1ea5f13",
   "metadata": {
    "id": "c898fdad-ac90-46da-86e6-bbc4632ef0d2",
    "papermill": {
     "duration": 0.058101,
     "end_time": "2023-12-15T07:34:21.232301",
     "exception": false,
     "start_time": "2023-12-15T07:34:21.174200",
     "status": "completed"
    },
    "tags": []
   },
   "outputs": [],
   "source": [
    "df = pd.read_csv('spam.csv',encoding='ISO-8859-1')"
   ]
  },
  {
   "cell_type": "code",
   "execution_count": 3,
   "id": "b65de7a7",
   "metadata": {
    "id": "c211989c-52b4-406f-84a5-a8220cd17159",
    "outputId": "82c33822-fb77-4737-9da5-e3e31a3af5b7",
    "papermill": {
     "duration": 0.042061,
     "end_time": "2023-12-15T07:34:21.288297",
     "exception": false,
     "start_time": "2023-12-15T07:34:21.246236",
     "status": "completed"
    },
    "tags": []
   },
   "outputs": [
    {
     "data": {
      "text/html": [
       "<div>\n",
       "<style scoped>\n",
       "    .dataframe tbody tr th:only-of-type {\n",
       "        vertical-align: middle;\n",
       "    }\n",
       "\n",
       "    .dataframe tbody tr th {\n",
       "        vertical-align: top;\n",
       "    }\n",
       "\n",
       "    .dataframe thead th {\n",
       "        text-align: right;\n",
       "    }\n",
       "</style>\n",
       "<table border=\"1\" class=\"dataframe\">\n",
       "  <thead>\n",
       "    <tr style=\"text-align: right;\">\n",
       "      <th></th>\n",
       "      <th>v1</th>\n",
       "      <th>v2</th>\n",
       "      <th>Unnamed: 2</th>\n",
       "      <th>Unnamed: 3</th>\n",
       "      <th>Unnamed: 4</th>\n",
       "    </tr>\n",
       "  </thead>\n",
       "  <tbody>\n",
       "    <tr>\n",
       "      <th>0</th>\n",
       "      <td>ham</td>\n",
       "      <td>Go until jurong point, crazy.. Available only ...</td>\n",
       "      <td>NaN</td>\n",
       "      <td>NaN</td>\n",
       "      <td>NaN</td>\n",
       "    </tr>\n",
       "    <tr>\n",
       "      <th>1</th>\n",
       "      <td>ham</td>\n",
       "      <td>Ok lar... Joking wif u oni...</td>\n",
       "      <td>NaN</td>\n",
       "      <td>NaN</td>\n",
       "      <td>NaN</td>\n",
       "    </tr>\n",
       "    <tr>\n",
       "      <th>2</th>\n",
       "      <td>spam</td>\n",
       "      <td>Free entry in 2 a wkly comp to win FA Cup fina...</td>\n",
       "      <td>NaN</td>\n",
       "      <td>NaN</td>\n",
       "      <td>NaN</td>\n",
       "    </tr>\n",
       "    <tr>\n",
       "      <th>3</th>\n",
       "      <td>ham</td>\n",
       "      <td>U dun say so early hor... U c already then say...</td>\n",
       "      <td>NaN</td>\n",
       "      <td>NaN</td>\n",
       "      <td>NaN</td>\n",
       "    </tr>\n",
       "    <tr>\n",
       "      <th>4</th>\n",
       "      <td>ham</td>\n",
       "      <td>Nah I don't think he goes to usf, he lives aro...</td>\n",
       "      <td>NaN</td>\n",
       "      <td>NaN</td>\n",
       "      <td>NaN</td>\n",
       "    </tr>\n",
       "  </tbody>\n",
       "</table>\n",
       "</div>"
      ],
      "text/plain": [
       "     v1                                                 v2 Unnamed: 2  \\\n",
       "0   ham  Go until jurong point, crazy.. Available only ...        NaN   \n",
       "1   ham                      Ok lar... Joking wif u oni...        NaN   \n",
       "2  spam  Free entry in 2 a wkly comp to win FA Cup fina...        NaN   \n",
       "3   ham  U dun say so early hor... U c already then say...        NaN   \n",
       "4   ham  Nah I don't think he goes to usf, he lives aro...        NaN   \n",
       "\n",
       "  Unnamed: 3 Unnamed: 4  \n",
       "0        NaN        NaN  \n",
       "1        NaN        NaN  \n",
       "2        NaN        NaN  \n",
       "3        NaN        NaN  \n",
       "4        NaN        NaN  "
      ]
     },
     "execution_count": 3,
     "metadata": {},
     "output_type": "execute_result"
    }
   ],
   "source": [
    "df.head()"
   ]
  },
  {
   "cell_type": "code",
   "execution_count": 4,
   "id": "612be2ac",
   "metadata": {
    "id": "45133525-6a0a-4fb3-88c6-80ab15d01959",
    "outputId": "fe2b05aa-ba95-4833-8e64-f37415ce0002",
    "papermill": {
     "duration": 0.053238,
     "end_time": "2023-12-15T07:34:21.356602",
     "exception": false,
     "start_time": "2023-12-15T07:34:21.303364",
     "status": "completed"
    },
    "tags": []
   },
   "outputs": [
    {
     "name": "stdout",
     "output_type": "stream",
     "text": [
      "<class 'pandas.core.frame.DataFrame'>\n",
      "RangeIndex: 5572 entries, 0 to 5571\n",
      "Data columns (total 5 columns):\n",
      " #   Column      Non-Null Count  Dtype \n",
      "---  ------      --------------  ----- \n",
      " 0   v1          5572 non-null   object\n",
      " 1   v2          5572 non-null   object\n",
      " 2   Unnamed: 2  50 non-null     object\n",
      " 3   Unnamed: 3  12 non-null     object\n",
      " 4   Unnamed: 4  6 non-null      object\n",
      "dtypes: object(5)\n",
      "memory usage: 217.8+ KB\n"
     ]
    }
   ],
   "source": [
    "df.info()"
   ]
  },
  {
   "cell_type": "markdown",
   "id": "1a8fc2aa",
   "metadata": {
    "id": "ff56ccc1-db13-4a21-ae31-394855196b4e",
    "papermill": {
     "duration": 0.014406,
     "end_time": "2023-12-15T07:34:21.385968",
     "exception": false,
     "start_time": "2023-12-15T07:34:21.371562",
     "status": "completed"
    },
    "tags": []
   },
   "source": [
    "#  Cleaning Data\n"
   ]
  },
  {
   "cell_type": "code",
   "execution_count": 5,
   "id": "ef21ceae",
   "metadata": {
    "id": "f0098c87-faa6-45c8-b67f-b0f83d225b8d",
    "papermill": {
     "duration": 0.025448,
     "end_time": "2023-12-15T07:34:21.425346",
     "exception": false,
     "start_time": "2023-12-15T07:34:21.399898",
     "status": "completed"
    },
    "tags": []
   },
   "outputs": [],
   "source": [
    "df.rename(columns={'v1':'class','v2':'content'},inplace=True)"
   ]
  },
  {
   "cell_type": "code",
   "execution_count": 6,
   "id": "6149c296",
   "metadata": {
    "id": "7e1a6749-d191-435c-82c8-173df65ad00e",
    "papermill": {
     "duration": 0.027837,
     "end_time": "2023-12-15T07:34:21.467428",
     "exception": false,
     "start_time": "2023-12-15T07:34:21.439591",
     "status": "completed"
    },
    "tags": []
   },
   "outputs": [],
   "source": [
    "df=df[['class','content']]"
   ]
  },
  {
   "cell_type": "code",
   "execution_count": 7,
   "id": "2e492a0d",
   "metadata": {
    "id": "1662aa5b-6b9d-433b-aa9f-e132ffd5819a",
    "outputId": "45d1a7e0-e1c9-4d95-fd8f-476de2c27a69",
    "papermill": {
     "duration": 0.029858,
     "end_time": "2023-12-15T07:34:21.511291",
     "exception": false,
     "start_time": "2023-12-15T07:34:21.481433",
     "status": "completed"
    },
    "tags": []
   },
   "outputs": [
    {
     "data": {
      "text/html": [
       "<div>\n",
       "<style scoped>\n",
       "    .dataframe tbody tr th:only-of-type {\n",
       "        vertical-align: middle;\n",
       "    }\n",
       "\n",
       "    .dataframe tbody tr th {\n",
       "        vertical-align: top;\n",
       "    }\n",
       "\n",
       "    .dataframe thead th {\n",
       "        text-align: right;\n",
       "    }\n",
       "</style>\n",
       "<table border=\"1\" class=\"dataframe\">\n",
       "  <thead>\n",
       "    <tr style=\"text-align: right;\">\n",
       "      <th></th>\n",
       "      <th>class</th>\n",
       "      <th>content</th>\n",
       "    </tr>\n",
       "  </thead>\n",
       "  <tbody>\n",
       "    <tr>\n",
       "      <th>0</th>\n",
       "      <td>ham</td>\n",
       "      <td>Go until jurong point, crazy.. Available only ...</td>\n",
       "    </tr>\n",
       "    <tr>\n",
       "      <th>1</th>\n",
       "      <td>ham</td>\n",
       "      <td>Ok lar... Joking wif u oni...</td>\n",
       "    </tr>\n",
       "    <tr>\n",
       "      <th>2</th>\n",
       "      <td>spam</td>\n",
       "      <td>Free entry in 2 a wkly comp to win FA Cup fina...</td>\n",
       "    </tr>\n",
       "    <tr>\n",
       "      <th>3</th>\n",
       "      <td>ham</td>\n",
       "      <td>U dun say so early hor... U c already then say...</td>\n",
       "    </tr>\n",
       "    <tr>\n",
       "      <th>4</th>\n",
       "      <td>ham</td>\n",
       "      <td>Nah I don't think he goes to usf, he lives aro...</td>\n",
       "    </tr>\n",
       "  </tbody>\n",
       "</table>\n",
       "</div>"
      ],
      "text/plain": [
       "  class                                            content\n",
       "0   ham  Go until jurong point, crazy.. Available only ...\n",
       "1   ham                      Ok lar... Joking wif u oni...\n",
       "2  spam  Free entry in 2 a wkly comp to win FA Cup fina...\n",
       "3   ham  U dun say so early hor... U c already then say...\n",
       "4   ham  Nah I don't think he goes to usf, he lives aro..."
      ]
     },
     "execution_count": 7,
     "metadata": {},
     "output_type": "execute_result"
    }
   ],
   "source": [
    "df.head()"
   ]
  },
  {
   "cell_type": "code",
   "execution_count": 8,
   "id": "363d3d78",
   "metadata": {
    "id": "366eb3fd-ff6c-40b0-b4e5-e5a2de732f82",
    "papermill": {
     "duration": 0.10867,
     "end_time": "2023-12-15T07:34:21.634968",
     "exception": false,
     "start_time": "2023-12-15T07:34:21.526298",
     "status": "completed"
    },
    "tags": []
   },
   "outputs": [],
   "source": [
    "df['class'] = df['class'].map({'ham': 0, 'spam': 1})"
   ]
  },
  {
   "cell_type": "code",
   "execution_count": 9,
   "id": "6fcbaac6",
   "metadata": {
    "id": "81df468d-1130-4b65-8890-f3551d106ef3",
    "outputId": "b0e27fd5-7309-442a-b104-43cda40de689",
    "papermill": {
     "duration": 0.033141,
     "end_time": "2023-12-15T07:34:21.682257",
     "exception": false,
     "start_time": "2023-12-15T07:34:21.649116",
     "status": "completed"
    },
    "tags": []
   },
   "outputs": [
    {
     "data": {
      "text/plain": [
       "403"
      ]
     },
     "execution_count": 9,
     "metadata": {},
     "output_type": "execute_result"
    }
   ],
   "source": [
    "df.duplicated().sum()"
   ]
  },
  {
   "cell_type": "code",
   "execution_count": 10,
   "id": "d29a2d01",
   "metadata": {
    "id": "32b8b9ab-5d65-4ceb-b9cb-0217fd871000",
    "papermill": {
     "duration": 0.030987,
     "end_time": "2023-12-15T07:34:21.728159",
     "exception": false,
     "start_time": "2023-12-15T07:34:21.697172",
     "status": "completed"
    },
    "tags": []
   },
   "outputs": [],
   "source": [
    "df.drop_duplicates(inplace=True)"
   ]
  },
  {
   "cell_type": "code",
   "execution_count": 11,
   "id": "d3c93d7c",
   "metadata": {
    "id": "21941421-3ae0-4f80-9037-da3d7c1483da",
    "outputId": "7f23bcf7-9f74-46ef-a0db-06c596603047",
    "papermill": {
     "duration": 0.031523,
     "end_time": "2023-12-15T07:34:21.775779",
     "exception": false,
     "start_time": "2023-12-15T07:34:21.744256",
     "status": "completed"
    },
    "tags": []
   },
   "outputs": [
    {
     "data": {
      "text/plain": [
       "0"
      ]
     },
     "execution_count": 11,
     "metadata": {},
     "output_type": "execute_result"
    }
   ],
   "source": [
    "df.duplicated().sum()"
   ]
  },
  {
   "cell_type": "code",
   "execution_count": 12,
   "id": "bfa34661",
   "metadata": {
    "id": "81e9eac3-9024-4c53-be1b-da15b3bea79d",
    "outputId": "65569cb4-3cde-44e3-f9e0-586434893bc7",
    "papermill": {
     "duration": 0.26035,
     "end_time": "2023-12-15T07:34:22.050847",
     "exception": false,
     "start_time": "2023-12-15T07:34:21.790497",
     "status": "completed"
    },
    "tags": []
   },
   "outputs": [
    {
     "data": {
      "image/png": "[encoded data removed]",
      "text/plain": [
       "<Figure size 640x480 with 1 Axes>"
      ]
     },
     "metadata": {},
     "output_type": "display_data"
    }
   ],
   "source": [
    "sns.countplot(x=df['class'])\n",
    "plt.show()"
   ]
  },
  {
   "cell_type": "markdown",
   "id": "97f69f30",
   "metadata": {
    "id": "2001ee07-0d61-46da-92bf-d4d666ad77b7",
    "papermill": {
     "duration": 0.01526,
     "end_time": "2023-12-15T07:34:22.080994",
     "exception": false,
     "start_time": "2023-12-15T07:34:22.065734",
     "status": "completed"
    },
    "tags": []
   },
   "source": [
    "spam: 1\n",
    "ham: 0\n"
   ]
  },
  {
   "cell_type": "code",
   "execution_count": 13,
   "id": "9557661d",
   "metadata": {
    "id": "9a91f5fd-4a8f-41b9-9f87-883e7cae24ce",
    "outputId": "cb8c1b1b-764f-4cb1-d404-4245b5b93aa2",
    "papermill": {
     "duration": 15.864294,
     "end_time": "2023-12-15T07:34:37.961540",
     "exception": false,
     "start_time": "2023-12-15T07:34:22.097246",
     "status": "completed"
    },
    "tags": []
   },
   "outputs": [
    {
     "name": "stdout",
     "output_type": "stream",
     "text": [
      "Requirement already satisfied: nltk in c:\\users\\thamizh\\appdata\\roaming\\python\\python311\\site-packages (3.8.1)\n",
      "Requirement already satisfied: click in c:\\users\\thamizh\\appdata\\roaming\\python\\python311\\site-packages (from nltk) (8.1.6)\n",
      "Requirement already satisfied: joblib in c:\\users\\thamizh\\appdata\\roaming\\python\\python311\\site-packages (from nltk) (1.3.1)\n",
      "Requirement already satisfied: regex>=2021.8.3 in c:\\users\\thamizh\\appdata\\roaming\\python\\python311\\site-packages (from nltk) (2023.8.8)\n",
      "Requirement already satisfied: tqdm in c:\\users\\thamizh\\appdata\\roaming\\python\\python311\\site-packages (from nltk) (4.66.1)\n",
      "Requirement already satisfied: colorama in c:\\users\\thamizh\\appdata\\roaming\\python\\python311\\site-packages (from click->nltk) (0.4.6)\n"
     ]
    }
   ],
   "source": [
    "!pip install nltk"
   ]
  },
  {
   "cell_type": "code",
   "execution_count": 14,
   "id": "a7de05b4",
   "metadata": {
    "id": "Xmu6dT_aXEgj",
    "papermill": {
     "duration": 1.385872,
     "end_time": "2023-12-15T07:34:39.363578",
     "exception": false,
     "start_time": "2023-12-15T07:34:37.977706",
     "status": "completed"
    },
    "tags": []
   },
   "outputs": [
    {
     "name": "stderr",
     "output_type": "stream",
     "text": [
      "[nltk_data] Downloading package punkt to\n",
      "[nltk_data]     C:\\Users\\thamizh\\AppData\\Roaming\\nltk_data...\n",
      "[nltk_data]   Package punkt is already up-to-date!\n",
      "[nltk_data] Downloading package stopwords to\n",
      "[nltk_data]     C:\\Users\\thamizh\\AppData\\Roaming\\nltk_data...\n",
      "[nltk_data]   Package stopwords is already up-to-date!\n"
     ]
    },
    {
     "data": {
      "text/plain": [
       "True"
      ]
     },
     "execution_count": 14,
     "metadata": {},
     "output_type": "execute_result"
    }
   ],
   "source": [
    "# Down load thư viện nltk\n",
    "\n",
    "import nltk\n",
    "nltk.download('punkt')\n",
    "nltk.download('stopwords')"
   ]
  },
  {
   "cell_type": "code",
   "execution_count": 15,
   "id": "f2d21b97",
   "metadata": {
    "id": "6953ca65-5d6d-4ac7-8810-a23604f941f4",
    "outputId": "d668df76-0955-4e36-d440-9f00d7992efe",
    "papermill": {
     "duration": 0.024356,
     "end_time": "2023-12-15T07:34:39.403362",
     "exception": false,
     "start_time": "2023-12-15T07:34:39.379006",
     "status": "completed"
    },
    "tags": []
   },
   "outputs": [],
   "source": [
    "from nltk.corpus import stopwords\n",
    "from nltk.stem import PorterStemmer\n",
    "import string"
   ]
  },
  {
   "cell_type": "code",
   "execution_count": null,
   "id": "1bd151a8",
   "metadata": {
    "id": "K8SsTlWMqNmD",
    "outputId": "00f66cf4-6ad1-4076-cc6a-47d8672fc4c8",
    "papermill": {
     "duration": 0.015639,
     "end_time": "2023-12-15T07:34:39.496726",
     "exception": false,
     "start_time": "2023-12-15T07:34:39.481087",
     "status": "completed"
    },
    "tags": []
   },
   "outputs": [],
   "source": []
  },
  {
   "cell_type": "code",
   "execution_count": 16,
   "id": "f1425ad4",
   "metadata": {
    "id": "6ce53a99-7347-44a2-bb5d-7456c791e880",
    "papermill": {
     "duration": 0.027599,
     "end_time": "2023-12-15T07:34:39.539671",
     "exception": false,
     "start_time": "2023-12-15T07:34:39.512072",
     "status": "completed"
    },
    "tags": []
   },
   "outputs": [],
   "source": [
    "porter = PorterStemmer()\n",
    "def tranform_stemming_word(sentence):\n",
    "    sentence = sentence.lower()\n",
    "    sentence = nltk.word_tokenize(sentence)\n",
    "\n",
    "    text = []\n",
    "    sup_text = []\n",
    "    for word in sentence:\n",
    "        if word.isalnum():\n",
    "            text.append(word)\n",
    "\n",
    "    for i in text:\n",
    "        if i not in stopwords.words(\"english\") and i not in string.punctuation:\n",
    "            sup_text.append(i)\n",
    "    text=sup_text[:]\n",
    "    sup_text.clear()\n",
    "\n",
    "    stemmed_words = [porter.stem(word) for word in text]\n",
    "    stemmed_sentence = ' '.join(stemmed_words)\n",
    "\n",
    "    return stemmed_sentence"
   ]
  },
  {
   "cell_type": "code",
   "execution_count": 17,
   "id": "396d3168",
   "metadata": {
    "id": "1764b754-3655-4df0-98f4-0f61ff775cf9",
    "outputId": "bdc7be90-a015-4554-dd41-53d3563849aa",
    "papermill": {
     "duration": 0.042352,
     "end_time": "2023-12-15T07:34:39.597539",
     "exception": false,
     "start_time": "2023-12-15T07:34:39.555187",
     "status": "completed"
    },
    "tags": []
   },
   "outputs": [
    {
     "data": {
      "text/plain": [
       "'hello guy quoc'"
      ]
     },
     "execution_count": 17,
     "metadata": {},
     "output_type": "execute_result"
    }
   ],
   "source": [
    "tranform_stemming_word(\"hello guys I am Quoc\")"
   ]
  },
  {
   "cell_type": "code",
   "execution_count": 18,
   "id": "1f219818",
   "metadata": {
    "id": "71419a39-db7f-4e13-84cd-3757fa336b79",
    "papermill": {
     "duration": 14.985983,
     "end_time": "2023-12-15T07:34:54.599263",
     "exception": false,
     "start_time": "2023-12-15T07:34:39.613280",
     "status": "completed"
    },
    "tags": []
   },
   "outputs": [],
   "source": [
    "df['transformed_stemming']=df.content.apply(tranform_stemming_word)"
   ]
  },
  {
   "cell_type": "code",
   "execution_count": 19,
   "id": "fcd57372",
   "metadata": {
    "id": "29dfac10-7fbf-43a2-a634-ecf2d4d87d05",
    "outputId": "1771b6c5-974e-45f2-f917-b13296c1c42e",
    "papermill": {
     "duration": 0.032003,
     "end_time": "2023-12-15T07:34:54.647140",
     "exception": false,
     "start_time": "2023-12-15T07:34:54.615137",
     "status": "completed"
    },
    "tags": []
   },
   "outputs": [
    {
     "data": {
      "text/html": [
       "<div>\n",
       "<style scoped>\n",
       "    .dataframe tbody tr th:only-of-type {\n",
       "        vertical-align: middle;\n",
       "    }\n",
       "\n",
       "    .dataframe tbody tr th {\n",
       "        vertical-align: top;\n",
       "    }\n",
       "\n",
       "    .dataframe thead th {\n",
       "        text-align: right;\n",
       "    }\n",
       "</style>\n",
       "<table border=\"1\" class=\"dataframe\">\n",
       "  <thead>\n",
       "    <tr style=\"text-align: right;\">\n",
       "      <th></th>\n",
       "      <th>class</th>\n",
       "      <th>content</th>\n",
       "      <th>transformed_stemming</th>\n",
       "    </tr>\n",
       "  </thead>\n",
       "  <tbody>\n",
       "    <tr>\n",
       "      <th>0</th>\n",
       "      <td>0</td>\n",
       "      <td>Go until jurong point, crazy.. Available only ...</td>\n",
       "      <td>go jurong point crazi avail bugi n great world...</td>\n",
       "    </tr>\n",
       "    <tr>\n",
       "      <th>1</th>\n",
       "      <td>0</td>\n",
       "      <td>Ok lar... Joking wif u oni...</td>\n",
       "      <td>ok lar joke wif u oni</td>\n",
       "    </tr>\n",
       "    <tr>\n",
       "      <th>2</th>\n",
       "      <td>1</td>\n",
       "      <td>Free entry in 2 a wkly comp to win FA Cup fina...</td>\n",
       "      <td>free entri 2 wkli comp win fa cup final tkt 21...</td>\n",
       "    </tr>\n",
       "    <tr>\n",
       "      <th>3</th>\n",
       "      <td>0</td>\n",
       "      <td>U dun say so early hor... U c already then say...</td>\n",
       "      <td>u dun say earli hor u c alreadi say</td>\n",
       "    </tr>\n",
       "    <tr>\n",
       "      <th>4</th>\n",
       "      <td>0</td>\n",
       "      <td>Nah I don't think he goes to usf, he lives aro...</td>\n",
       "      <td>nah think goe usf live around though</td>\n",
       "    </tr>\n",
       "  </tbody>\n",
       "</table>\n",
       "</div>"
      ],
      "text/plain": [
       "   class                                            content  \\\n",
       "0      0  Go until jurong point, crazy.. Available only ...   \n",
       "1      0                      Ok lar... Joking wif u oni...   \n",
       "2      1  Free entry in 2 a wkly comp to win FA Cup fina...   \n",
       "3      0  U dun say so early hor... U c already then say...   \n",
       "4      0  Nah I don't think he goes to usf, he lives aro...   \n",
       "\n",
       "                                transformed_stemming  \n",
       "0  go jurong point crazi avail bugi n great world...  \n",
       "1                              ok lar joke wif u oni  \n",
       "2  free entri 2 wkli comp win fa cup final tkt 21...  \n",
       "3                u dun say earli hor u c alreadi say  \n",
       "4               nah think goe usf live around though  "
      ]
     },
     "execution_count": 19,
     "metadata": {},
     "output_type": "execute_result"
    }
   ],
   "source": [
    "df.head()"
   ]
  },
  {
   "cell_type": "code",
   "execution_count": 20,
   "id": "babca69e",
   "metadata": {
    "id": "825c8de5-906b-4b39-860d-fe0e093205c8",
    "papermill": {
     "duration": 0.030564,
     "end_time": "2023-12-15T07:34:54.694126",
     "exception": false,
     "start_time": "2023-12-15T07:34:54.663562",
     "status": "completed"
    },
    "tags": []
   },
   "outputs": [],
   "source": [
    "spam_word=[]\n",
    "for msg in df[df['class']==1]['transformed_stemming'].tolist():\n",
    "    for word in msg.split():\n",
    "        spam_word.append(word)"
   ]
  },
  {
   "cell_type": "code",
   "execution_count": 21,
   "id": "bccdb34c",
   "metadata": {
    "id": "0cd8210c-c7fb-417a-b110-509eaf051af2",
    "outputId": "a54c7832-0e4e-4b91-ca78-193f5ccec55e",
    "papermill": {
     "duration": 0.031753,
     "end_time": "2023-12-15T07:34:54.741701",
     "exception": false,
     "start_time": "2023-12-15T07:34:54.709948",
     "status": "completed"
    },
    "tags": []
   },
   "outputs": [
    {
     "name": "stdout",
     "output_type": "stream",
     "text": [
      "lenght of spam_word:  9939\n"
     ]
    },
    {
     "data": {
      "text/plain": [
       "[('call', 320),\n",
       " ('free', 191),\n",
       " ('2', 155),\n",
       " ('txt', 141),\n",
       " ('text', 122),\n",
       " ('u', 119),\n",
       " ('ur', 119),\n",
       " ('mobil', 114),\n",
       " ('stop', 104),\n",
       " ('repli', 103),\n",
       " ('claim', 98),\n",
       " ('4', 97),\n",
       " ('prize', 82),\n",
       " ('get', 74),\n",
       " ('new', 64)]"
      ]
     },
     "execution_count": 21,
     "metadata": {},
     "output_type": "execute_result"
    }
   ],
   "source": [
    "from collections import Counter\n",
    "print(\"lenght of spam_word: \", len(spam_word))\n",
    "Counter(spam_word).most_common(15)\n"
   ]
  },
  {
   "cell_type": "code",
   "execution_count": 22,
   "id": "6046136e",
   "metadata": {
    "id": "b4a9b1d1-8d4d-4fbd-848b-8072c7d3f326",
    "papermill": {
     "duration": 0.040067,
     "end_time": "2023-12-15T07:34:54.797844",
     "exception": false,
     "start_time": "2023-12-15T07:34:54.757777",
     "status": "completed"
    },
    "tags": []
   },
   "outputs": [],
   "source": [
    "ham_word = []\n",
    "for msg in df[df['class']==0]['transformed_stemming'].tolist():\n",
    "    for word in msg.split():\n",
    "        ham_word.append(word)"
   ]
  },
  {
   "cell_type": "code",
   "execution_count": 23,
   "id": "48cb7cf1",
   "metadata": {
    "id": "RQgFXGh-BzIS",
    "outputId": "fe52dc18-f485-4602-bce7-805e6822041d",
    "papermill": {
     "duration": 0.037609,
     "end_time": "2023-12-15T07:34:54.852292",
     "exception": false,
     "start_time": "2023-12-15T07:34:54.814683",
     "status": "completed"
    },
    "tags": []
   },
   "outputs": [
    {
     "name": "stdout",
     "output_type": "stream",
     "text": [
      "lenght of ham_word:  35404\n"
     ]
    },
    {
     "data": {
      "text/plain": [
       "[('u', 883),\n",
       " ('go', 404),\n",
       " ('get', 349),\n",
       " ('gt', 288),\n",
       " ('lt', 287),\n",
       " ('2', 284),\n",
       " ('come', 275),\n",
       " ('got', 236),\n",
       " ('know', 236),\n",
       " ('like', 234),\n",
       " ('call', 233),\n",
       " ('time', 219),\n",
       " ('ok', 217),\n",
       " ('love', 216),\n",
       " ('good', 213)]"
      ]
     },
     "execution_count": 23,
     "metadata": {},
     "output_type": "execute_result"
    }
   ],
   "source": [
    "print(\"lenght of ham_word: \", len(ham_word))\n",
    "Counter(ham_word).most_common(15)\n"
   ]
  },
  {
   "cell_type": "markdown",
   "id": "6a3068c6",
   "metadata": {
    "id": "WNlyiQmZCeC3",
    "papermill": {
     "duration": 0.016202,
     "end_time": "2023-12-15T07:34:54.886463",
     "exception": false,
     "start_time": "2023-12-15T07:34:54.870261",
     "status": "completed"
    },
    "tags": []
   },
   "source": [
    "### Training model"
   ]
  },
  {
   "cell_type": "code",
   "execution_count": 24,
   "id": "031c7040",
   "metadata": {
    "id": "cc94d11d-b5ee-4d46-8618-a83fea7356ca",
    "papermill": {
     "duration": 0.025744,
     "end_time": "2023-12-15T07:34:54.929091",
     "exception": false,
     "start_time": "2023-12-15T07:34:54.903347",
     "status": "completed"
    },
    "tags": []
   },
   "outputs": [],
   "source": [
    "from sklearn.feature_extraction.text import CountVectorizer\n",
    "vectorizer = CountVectorizer()\n",
    "# df.reset_index(inplace=True)\n",
    "# df.head()"
   ]
  },
  {
   "cell_type": "code",
   "execution_count": 25,
   "id": "7efa5744",
   "metadata": {
    "id": "be2dbf70-0fec-42f9-a267-19cad8e03a34",
    "papermill": {
     "duration": 0.244224,
     "end_time": "2023-12-15T07:34:55.189722",
     "exception": false,
     "start_time": "2023-12-15T07:34:54.945498",
     "status": "completed"
    },
    "tags": []
   },
   "outputs": [],
   "source": [
    "X = vectorizer.fit_transform(df['transformed_stemming']).toarray()\n",
    "y = df['class'].values"
   ]
  },
  {
   "cell_type": "code",
   "execution_count": 26,
   "id": "957afd43",
   "metadata": {
    "id": "596232ea-3a24-4a3b-b544-65b14bae1664",
    "papermill": {
     "duration": 0.202948,
     "end_time": "2023-12-15T07:34:55.409019",
     "exception": false,
     "start_time": "2023-12-15T07:34:55.206071",
     "status": "completed"
    },
    "tags": []
   },
   "outputs": [],
   "source": [
    "from sklearn.model_selection import train_test_split\n",
    "X_train, X_test, y_train, y_test = train_test_split(X, y, test_size=0.3, random_state=42)"
   ]
  },
  {
   "cell_type": "code",
   "execution_count": 27,
   "id": "90041c65",
   "metadata": {
    "id": "51bba334-48ed-4d6b-8ce1-4329e25f92e6",
    "outputId": "f79388ce-6200-4cc7-db09-fb1c2b86d56e",
    "papermill": {
     "duration": 0.994965,
     "end_time": "2023-12-15T07:34:56.420288",
     "exception": false,
     "start_time": "2023-12-15T07:34:55.425323",
     "status": "completed"
    },
    "tags": []
   },
   "outputs": [
    {
     "name": "stdout",
     "output_type": "stream",
     "text": [
      "Accuracy: 0.97678916827853\n",
      "Confusion Matrix:\n",
      " [[1327    4]\n",
      " [  32  188]]\n",
      "Precision: 97.92%\n",
      "Recall: 85.45%\n",
      "F1 Score: 0.9126\n"
     ]
    }
   ],
   "source": [
    "from sklearn.linear_model import LogisticRegression\n",
    "from sklearn.metrics import confusion_matrix ,precision_score , recall_score, accuracy_score, f1_score\n",
    "model = LogisticRegression()\n",
    "\n",
    "# Huấn luyện mô hình trên tập huấn luyện\n",
    "model.fit(X_train, y_train)\n",
    "\n",
    "# Dự đoán trên tập kiểm tra\n",
    "y_pred = model.predict(X_test)\n",
    "\n",
    "# Đánh giá mô hình\n",
    "accuracy = accuracy_score(y_test, y_pred)\n",
    "conf_matrix = confusion_matrix(y_test, y_pred)\n",
    "\n",
    "y_pred = model.predict(X_test)\n",
    "y_pred = (y_pred > 0.5).astype(int)\n",
    "\n",
    "accuracy = accuracy_score(y_test, y_pred)\n",
    "f1 = f1_score(y_test, y_pred)\n",
    "\n",
    "# Hiển thị kết quả\n",
    "print(\"Accuracy:\", accuracy)\n",
    "print(\"Confusion Matrix:\\n\", conf_matrix)\n",
    "print(\"Precision: {:.2f}%\".format(100 * precision_score(y_test, y_pred)))\n",
    "print(\"Recall: {:.2f}%\".format(100 * recall_score(y_test, y_pred)))\n",
    "print(f'F1 Score: {f1:.4f}')\n",
    "\n"
   ]
  },
  {
   "cell_type": "markdown",
   "id": "a9c87000",
   "metadata": {
    "id": "xUf4b6dM-wvk",
    "papermill": {
     "duration": 0.034649,
     "end_time": "2023-12-15T07:34:56.491570",
     "exception": false,
     "start_time": "2023-12-15T07:34:56.456921",
     "status": "completed"
    },
    "tags": []
   },
   "source": [
    "### Test Model"
   ]
  },
  {
   "cell_type": "code",
   "execution_count": 28,
   "id": "2c044a72",
   "metadata": {
    "id": "1789e9f6-002f-4eaf-a72e-17c35805305c",
    "outputId": "dff1738f-a0ec-4506-bdeb-c8eff3497ecc",
    "papermill": {
     "duration": 0.038512,
     "end_time": "2023-12-15T07:34:56.558188",
     "exception": false,
     "start_time": "2023-12-15T07:34:56.519676",
     "status": "completed"
    },
    "tags": []
   },
   "outputs": [
    {
     "name": "stdout",
     "output_type": "stream",
     "text": [
      "This message is classified as spam.\n"
     ]
    }
   ],
   "source": [
    "new_message = \"URGENT! You have won a 1 week FREE membership in our å£100,000 Prize Jackpot! Txt the word: CLAIM to No: 81010 T&C www.dbuk.net LCCLTD POBOX 4403LDNW1A7RW18\"\n",
    "\n",
    "processed_message = tranform_stemming_word(new_message)\n",
    "processed_message_2d = [processed_message]\n",
    "vectorizer = CountVectorizer(vocabulary=vectorizer.vocabulary_)\n",
    "X_new_message = vectorizer.transform(processed_message_2d)\n",
    "y_pred = model.predict(X_new_message)\n",
    "if y_pred[0] == 1:\n",
    "    print(\"This message is classified as spam.\")\n",
    "else:\n",
    "    print(\"This message is classified as ham.\")"
   ]
  },
  {
   "cell_type": "code",
   "execution_count": 29,
   "id": "1ec241ca",
   "metadata": {
    "id": "797f754d-eb0a-4617-91f2-f3cd0970b24d",
    "outputId": "f065d62f-c317-4802-89aa-9c3ca7c5f1eb",
    "papermill": {
     "duration": 0.334756,
     "end_time": "2023-12-15T07:34:56.909638",
     "exception": false,
     "start_time": "2023-12-15T07:34:56.574882",
     "status": "completed"
    },
    "tags": []
   },
   "outputs": [
    {
     "data": {
      "image/png": "[encoded data removed]",
      "text/plain": [
       "<Figure size 640x480 with 2 Axes>"
      ]
     },
     "metadata": {},
     "output_type": "display_data"
    }
   ],
   "source": [
    "sns.heatmap(conf_matrix,annot=True, fmt='d')\n",
    "plt.title('Confusion Matrix')\n",
    "plt.xlabel('Predicted Label')\n",
    "plt.ylabel('True Label')\n",
    "plt.show()\n"
   ]
  },
  {
   "cell_type": "code",
   "execution_count": 30,
   "id": "6dfdc8f2",
   "metadata": {
    "id": "d0dc5d74-9846-4c8f-bf93-367a3a08efd6",
    "outputId": "ab1c1ec1-9f4a-4004-b9ad-906a826bc4b3",
    "papermill": {
     "duration": 0.545433,
     "end_time": "2023-12-15T07:34:57.472169",
     "exception": false,
     "start_time": "2023-12-15T07:34:56.926736",
     "status": "completed"
    },
    "tags": []
   },
   "outputs": [
    {
     "data": {
      "image/png": "[encoded data removed]",
      "text/plain": [
       "<Figure size 1000x400 with 1 Axes>"
      ]
     },
     "metadata": {},
     "output_type": "display_data"
    }
   ],
   "source": [
    "\n",
    "X_train, X_test, y_train, y_test = train_test_split(X, y, test_size=0.1, random_state=42)\n",
    "epochs = []\n",
    "accuracy_values = []\n",
    "confusion_matrices = []\n",
    "\n",
    "for epoch in range(10):\n",
    "    # model.fit(X_train, y_train)\n",
    "    y_pred = model.predict(X_test)\n",
    "\n",
    "    # Đánh giá độ chính xác và ma trận confusion\n",
    "    accuracy = accuracy_score(y_test, y_pred)\n",
    "    confusion = confusion_matrix(y_test, y_pred)\n",
    "\n",
    "    # Lưu giữ kết quả\n",
    "    epochs.append(epoch)\n",
    "    accuracy_values.append(accuracy)\n",
    "    confusion_matrices.append(confusion)\n",
    "\n",
    "# Biểu đồ độ chính xác theo epoch\n",
    "plt.figure(figsize=(10, 4))\n",
    "plt.plot(epochs, accuracy_values, marker='o')\n",
    "plt.title('Accuracy over Epochs')\n",
    "plt.xlabel('Epoch')\n",
    "plt.ylabel('Accuracy')\n",
    "plt.show()\n",
    "\n",
    "\n"
   ]
  },
  {
   "cell_type": "code",
   "execution_count": 31,
   "id": "ce06854a",
   "metadata": {
    "id": "9FZDflX-MBWx",
    "papermill": {
     "duration": 0.030307,
     "end_time": "2023-12-15T07:34:57.520102",
     "exception": false,
     "start_time": "2023-12-15T07:34:57.489795",
     "status": "completed"
    },
    "tags": []
   },
   "outputs": [],
   "source": [
    "\n",
    "\n",
    "def processing_script_batch(batch, batch_size):\n",
    "  if(batch < len(X) // batch_size):\n",
    "    start_idx = batch * batch_size\n",
    "    end_idx = (batch + 1) * batch_size\n",
    "\n",
    "    X_batch = X_train[start_idx:end_idx]\n",
    "    y_batch = y_train[start_idx:end_idx]\n",
    "\n",
    "    # Huấn luyện mô hình\n",
    "    model.fit(X_batch, y_batch)\n",
    "    # Đánh giá độ chính xác sau mỗi batch\n",
    "    y_pred = model.predict(X_test)\n",
    "    accuracy = accuracy_score(y_test, y_pred)\n",
    "\n",
    "    # Đánh giá ma trận confusion\n",
    "    confusion = confusion_matrix(y_test, y_pred)\n",
    "\n",
    "    return True, batch, accuracy, confusion\n",
    "  else:\n",
    "    print('Invalid batch')\n",
    "    return False, None, None, None"
   ]
  },
  {
   "cell_type": "code",
   "execution_count": 32,
   "id": "8cce9e04",
   "metadata": {
    "id": "ff2cee53-a1fc-46dc-bb22-1d017c2eb1b1",
    "outputId": "405f8440-3a90-48f3-ff17-f7c65300c031",
    "papermill": {
     "duration": 7.434216,
     "end_time": "2023-12-15T07:35:04.972549",
     "exception": false,
     "start_time": "2023-12-15T07:34:57.538333",
     "status": "completed"
    },
    "tags": []
   },
   "outputs": [
    {
     "data": {
      "image/png": "[encoded data removed]",
      "text/plain": [
       "<Figure size 1000x400 with 1 Axes>"
      ]
     },
     "metadata": {},
     "output_type": "display_data"
    }
   ],
   "source": [
    "X_train, X_test, y_train, y_test = train_test_split(X, y, test_size=0.2, random_state=42)\n",
    "\n",
    "# Khởi tạo mô hình\n",
    "model = LogisticRegression(solver=\"lbfgs\", max_iter=1000, random_state=42)\n",
    "\n",
    "batch_size = 64\n",
    "# Các biến để lưu kết quả\n",
    "batches = []\n",
    "accuracy_values = []\n",
    "confusion_matrices = []\n",
    "\n",
    "\n",
    "# Tính toán số lượng batch\n",
    "num_batches = len(X_train) // batch_size\n",
    "\n",
    "# Huấn luyện mô hình và ghi lại kết quả sau mỗi batch\n",
    "for batch in range(num_batches):\n",
    "  valid, batch, accuracy, confusion = processing_script_batch(batch, batch_size)\n",
    "  if(valid):\n",
    "    accuracy_values.append(accuracy)\n",
    "    confusion_matrices.append(confusion)\n",
    "    batches.append(batch)\n",
    "\n",
    "\n",
    "\n",
    "# Biểu đồ độ chính xác theo từng batch\n",
    "plt.figure(figsize=(10, 4))\n",
    "plt.plot(batches, accuracy_values, marker='o')\n",
    "plt.title('Accuracy over Batches')\n",
    "plt.xlabel('Batch')\n",
    "plt.ylabel('Accuracy')\n",
    "plt.show()\n",
    "\n"
   ]
  },
  {
   "cell_type": "markdown",
   "id": "07e5d67d",
   "metadata": {
    "id": "PW6x2uti_B-m",
    "papermill": {
     "duration": 0.020087,
     "end_time": "2023-12-15T07:35:05.013245",
     "exception": false,
     "start_time": "2023-12-15T07:35:04.993158",
     "status": "completed"
    },
    "tags": []
   },
   "source": [
    "### Processing script"
   ]
  },
  {
   "cell_type": "code",
   "execution_count": 33,
   "id": "ca485243",
   "metadata": {
    "id": "tq6VhxpDM0AE",
    "outputId": "ff780a6a-f6c0-4714-80e4-420d1cbed11e",
    "papermill": {
     "duration": 0.446171,
     "end_time": "2023-12-15T07:35:05.480849",
     "exception": false,
     "start_time": "2023-12-15T07:35:05.034678",
     "status": "completed"
    },
    "tags": []
   },
   "outputs": [
    {
     "name": "stdout",
     "output_type": "stream",
     "text": [
      "Accuracy: 0.8800773694390716\n"
     ]
    },
    {
     "data": {
      "image/png": "[encoded data removed]",
      "text/plain": [
       "<Figure size 640x480 with 2 Axes>"
      ]
     },
     "metadata": {},
     "output_type": "display_data"
    }
   ],
   "source": [
    "\n",
    "batch_size = 90\n",
    "new_batch = 3\n",
    "valid, batch, accuracy, confusion = processing_script_batch(new_batch, batch_size)\n",
    "\n",
    "if(valid):\n",
    "  print(\"Accuracy:\", accuracy)\n",
    "  sns.heatmap(confusion,annot=True, fmt='d')\n",
    "  plt.title('Confusion Matrix')\n",
    "  plt.xlabel('Predicted Label')\n",
    "  plt.ylabel('True Label')\n",
    "  plt.show()\n",
    "\n",
    "\n"
   ]
  },
  {
   "cell_type": "code",
   "execution_count": null,
   "id": "a1c44c45",
   "metadata": {
    "id": "NI6y7Yg1O2GX",
    "outputId": "9131f568-4583-477b-a9a5-6cfcb42a8b20",
    "papermill": {
     "duration": 0.01945,
     "end_time": "2023-12-15T07:35:05.520369",
     "exception": false,
     "start_time": "2023-12-15T07:35:05.500919",
     "status": "completed"
    },
    "tags": []
   },
   "outputs": [],
   "source": []
  },
  {
   "cell_type": "code",
   "execution_count": null,
   "id": "e37b536f",
   "metadata": {
    "id": "SyOez33iPdDX",
    "papermill": {
     "duration": 0.019481,
     "end_time": "2023-12-15T07:35:05.559643",
     "exception": false,
     "start_time": "2023-12-15T07:35:05.540162",
     "status": "completed"
    },
    "tags": []
   },
   "outputs": [],
   "source": []
  }
 ],
 "metadata": {
  "accelerator": "GPU",
  "colab": {
   "gpuType": "T4",
   "provenance": []
  },
  "kaggle": {
   "accelerator": "none",
   "dataSources": [
    {
     "datasetId": 483,
     "sourceId": 982,
     "sourceType": "datasetVersion"
    }
   ],
   "dockerImageVersionId": 30626,
   "isGpuEnabled": false,
   "isInternetEnabled": true,
   "language": "python",
   "sourceType": "notebook"
  },
  "kernelspec": {
   "display_name": "Python 3 (ipykernel)",
   "language": "python",
   "name": "python3"
  },
  "language_info": {
   "codemirror_mode": {
    "name": "ipython",
    "version": 3
   },
   "file_extension": ".py",
   "mimetype": "text/x-python",
   "name": "python",
   "nbconvert_exporter": "python",
   "pygments_lexer": "ipython3",
   "version": "3.11.3"
  },
  "papermill": {
   "default_parameters": {},
   "duration": 50.870102,
   "end_time": "2023-12-15T07:35:06.301586",
   "environment_variables": {},
   "exception": null,
   "input_path": "__notebook__.ipynb",
   "output_path": "__notebook__.ipynb",
   "parameters": {},
   "start_time": "2023-12-15T07:34:15.431484",
   "version": "2.4.0"
  }
 },
 "nbformat": 4,
 "nbformat_minor": 5
}
